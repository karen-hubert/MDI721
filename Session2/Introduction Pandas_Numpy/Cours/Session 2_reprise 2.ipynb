{
 "cells": [
  {
   "cell_type": "markdown",
   "metadata": {},
   "source": [
    "Sélections dans les Series"
   ]
  },
  {
   "cell_type": "code",
   "execution_count": 1,
   "metadata": {},
   "outputs": [],
   "source": [
    "# import des modules usuels\n",
    "import numpy as np\n",
    "import pandas as pd\n",
    "\n",
    "geo = pd.read_csv(\"correspondance-code-insee-code-postal.csv\",\n",
    "                   sep=';',\n",
    "                   usecols=range(11))"
   ]
  },
  {
   "cell_type": "code",
   "execution_count": 2,
   "metadata": {},
   "outputs": [],
   "source": [
    "geo = geo.sort_index()"
   ]
  },
  {
   "cell_type": "code",
   "execution_count": 3,
   "metadata": {},
   "outputs": [
    {
     "data": {
      "text/html": [
       "<div>\n",
       "<style scoped>\n",
       "    .dataframe tbody tr th:only-of-type {\n",
       "        vertical-align: middle;\n",
       "    }\n",
       "\n",
       "    .dataframe tbody tr th {\n",
       "        vertical-align: top;\n",
       "    }\n",
       "\n",
       "    .dataframe thead th {\n",
       "        text-align: right;\n",
       "    }\n",
       "</style>\n",
       "<table border=\"1\" class=\"dataframe\">\n",
       "  <thead>\n",
       "    <tr style=\"text-align: right;\">\n",
       "      <th></th>\n",
       "      <th>Code INSEE</th>\n",
       "      <th>Code Postal</th>\n",
       "      <th>Commune</th>\n",
       "      <th>Département</th>\n",
       "      <th>Région</th>\n",
       "      <th>Statut</th>\n",
       "      <th>Altitude Moyenne</th>\n",
       "      <th>Superficie</th>\n",
       "      <th>Population</th>\n",
       "      <th>geo_point_2d</th>\n",
       "      <th>geo_shape</th>\n",
       "    </tr>\n",
       "  </thead>\n",
       "  <tbody>\n",
       "    <tr>\n",
       "      <th>0</th>\n",
       "      <td>31080</td>\n",
       "      <td>31350</td>\n",
       "      <td>BOULOGNE-SUR-GESSE</td>\n",
       "      <td>HAUTE-GARONNE</td>\n",
       "      <td>MIDI-PYRENEES</td>\n",
       "      <td>Chef-lieu canton</td>\n",
       "      <td>301.0</td>\n",
       "      <td>2470.0</td>\n",
       "      <td>1.6</td>\n",
       "      <td>43.2904403081, 0.650641474176</td>\n",
       "      <td>{\"type\": \"Polygon\", \"coordinates\": [[[0.671852...</td>\n",
       "    </tr>\n",
       "    <tr>\n",
       "      <th>1</th>\n",
       "      <td>11143</td>\n",
       "      <td>11510</td>\n",
       "      <td>FEUILLA</td>\n",
       "      <td>AUDE</td>\n",
       "      <td>LANGUEDOC-ROUSSILLON</td>\n",
       "      <td>Commune simple</td>\n",
       "      <td>314.0</td>\n",
       "      <td>2426.0</td>\n",
       "      <td>0.1</td>\n",
       "      <td>42.9291375888, 2.90138923544</td>\n",
       "      <td>{\"type\": \"Polygon\", \"coordinates\": [[[2.906996...</td>\n",
       "    </tr>\n",
       "    <tr>\n",
       "      <th>2</th>\n",
       "      <td>43028</td>\n",
       "      <td>43200</td>\n",
       "      <td>BESSAMOREL</td>\n",
       "      <td>HAUTE-LOIRE</td>\n",
       "      <td>AUVERGNE</td>\n",
       "      <td>Commune simple</td>\n",
       "      <td>888.0</td>\n",
       "      <td>743.0</td>\n",
       "      <td>0.4</td>\n",
       "      <td>45.1306448726, 4.07952494849</td>\n",
       "      <td>{\"type\": \"Polygon\", \"coordinates\": [[[4.091674...</td>\n",
       "    </tr>\n",
       "    <tr>\n",
       "      <th>3</th>\n",
       "      <td>78506</td>\n",
       "      <td>78660</td>\n",
       "      <td>PRUNAY-EN-YVELINES</td>\n",
       "      <td>YVELINES</td>\n",
       "      <td>ILE-DE-FRANCE</td>\n",
       "      <td>Commune simple</td>\n",
       "      <td>155.0</td>\n",
       "      <td>2717.0</td>\n",
       "      <td>0.8</td>\n",
       "      <td>48.5267627187, 1.80513972814</td>\n",
       "      <td>{\"type\": \"Polygon\", \"coordinates\": [[[1.829610...</td>\n",
       "    </tr>\n",
       "    <tr>\n",
       "      <th>4</th>\n",
       "      <td>84081</td>\n",
       "      <td>84310</td>\n",
       "      <td>MORIERES-LES-AVIGNON</td>\n",
       "      <td>VAUCLUSE</td>\n",
       "      <td>PROVENCE-ALPES-COTE D'AZUR</td>\n",
       "      <td>Commune simple</td>\n",
       "      <td>49.0</td>\n",
       "      <td>1042.0</td>\n",
       "      <td>7.6</td>\n",
       "      <td>43.9337788848, 4.90875878315</td>\n",
       "      <td>{\"type\": \"Polygon\", \"coordinates\": [[[4.927176...</td>\n",
       "    </tr>\n",
       "  </tbody>\n",
       "</table>\n",
       "</div>"
      ],
      "text/plain": [
       "  Code INSEE Code Postal               Commune    Département  \\\n",
       "0      31080       31350    BOULOGNE-SUR-GESSE  HAUTE-GARONNE   \n",
       "1      11143       11510               FEUILLA           AUDE   \n",
       "2      43028       43200            BESSAMOREL    HAUTE-LOIRE   \n",
       "3      78506       78660    PRUNAY-EN-YVELINES       YVELINES   \n",
       "4      84081       84310  MORIERES-LES-AVIGNON       VAUCLUSE   \n",
       "\n",
       "                       Région            Statut  Altitude Moyenne  Superficie  \\\n",
       "0               MIDI-PYRENEES  Chef-lieu canton             301.0      2470.0   \n",
       "1        LANGUEDOC-ROUSSILLON    Commune simple             314.0      2426.0   \n",
       "2                    AUVERGNE    Commune simple             888.0       743.0   \n",
       "3               ILE-DE-FRANCE    Commune simple             155.0      2717.0   \n",
       "4  PROVENCE-ALPES-COTE D'AZUR    Commune simple              49.0      1042.0   \n",
       "\n",
       "   Population                   geo_point_2d  \\\n",
       "0         1.6  43.2904403081, 0.650641474176   \n",
       "1         0.1   42.9291375888, 2.90138923544   \n",
       "2         0.4   45.1306448726, 4.07952494849   \n",
       "3         0.8   48.5267627187, 1.80513972814   \n",
       "4         7.6   43.9337788848, 4.90875878315   \n",
       "\n",
       "                                           geo_shape  \n",
       "0  {\"type\": \"Polygon\", \"coordinates\": [[[0.671852...  \n",
       "1  {\"type\": \"Polygon\", \"coordinates\": [[[2.906996...  \n",
       "2  {\"type\": \"Polygon\", \"coordinates\": [[[4.091674...  \n",
       "3  {\"type\": \"Polygon\", \"coordinates\": [[[1.829610...  \n",
       "4  {\"type\": \"Polygon\", \"coordinates\": [[[4.927176...  "
      ]
     },
     "execution_count": 3,
     "metadata": {},
     "output_type": "execute_result"
    }
   ],
   "source": [
    "geo.head()"
   ]
  },
  {
   "cell_type": "code",
   "execution_count": 4,
   "metadata": {},
   "outputs": [
    {
     "data": {
      "text/plain": [
       "0                BOULOGNE-SUR-GESSE\n",
       "1                           FEUILLA\n",
       "2                        BESSAMOREL\n",
       "3                PRUNAY-EN-YVELINES\n",
       "4              MORIERES-LES-AVIGNON\n",
       "                    ...            \n",
       "36737                     CHAVANNAZ\n",
       "36738    NEEWILLER-PRES-LAUTERBOURG\n",
       "36739       LACHAPELLE-SOUS-AUBENAS\n",
       "36740                BAGE-LE-CHATEL\n",
       "36741                  GUILBERVILLE\n",
       "Name: Commune, Length: 36742, dtype: object"
      ]
     },
     "execution_count": 4,
     "metadata": {},
     "output_type": "execute_result"
    }
   ],
   "source": [
    "s = geo[\"Commune\"]\n",
    "s"
   ]
  },
  {
   "cell_type": "code",
   "execution_count": 5,
   "metadata": {},
   "outputs": [
    {
     "data": {
      "text/plain": [
       "17              AURIBAIL\n",
       "22               AVANCON\n",
       "48              AUMERVAL\n",
       "65       AVENAY-VAL-D'OR\n",
       "69          ARROS-DE-NAY\n",
       "              ...       \n",
       "36617              ARUDY\n",
       "36685           AINVELLE\n",
       "36696    ALBY-SUR-CHERAN\n",
       "36724              ARBIS\n",
       "36735            ANCOURT\n",
       "Name: Commune, Length: 1934, dtype: object"
      ]
     },
     "execution_count": 5,
     "metadata": {},
     "output_type": "execute_result"
    }
   ],
   "source": [
    "masque = s.str.startswith('A')\n",
    "s.loc[masque]"
   ]
  },
  {
   "cell_type": "raw",
   "metadata": {},
   "source": [
    "Exercice\n",
    "Quelles communes commencent par la lettre \"Z\" ?\n",
    "Quelles communes commencent et finissent par la lettre \"Y\" ?\n",
    "Combien de communes sont \"SUR-MER\" ?\n",
    "Quelles communes ont un nom avec la préposition \"SOUS\" ?\n",
    "Quelles communes ont un nom avec \"SOUS\" mais pas la préposition \"SOUS\" ?\n"
   ]
  },
  {
   "cell_type": "code",
   "execution_count": 13,
   "metadata": {},
   "outputs": [
    {
     "data": {
      "text/plain": [
       "632          ZOMMANGE\n",
       "1405       ZERMEZEELE\n",
       "2238         ZIGLIARA\n",
       "2802      ZOEBERSDORF\n",
       "4267            ZONZA\n",
       "4517        ZARBELING\n",
       "6485          ZIMMING\n",
       "8695           ZALANA\n",
       "9355       ZAESSINGUE\n",
       "9734        ZUYDCOOTE\n",
       "9839        ZOUAFQUES\n",
       "10971          ZEVACO\n",
       "12082         ZETTING\n",
       "12366       ZUTKERQUE\n",
       "12776    ZEGERSCAPPEL\n",
       "15173       ZEHNACKER\n",
       "16909       ZOUFFTGEN\n",
       "19042          ZICAVO\n",
       "19680       ZUYTPEENE\n",
       "20643          ZOTEUX\n",
       "22680      ZUDAUSQUES\n",
       "23074        ZINCOURT\n",
       "25912      ZILLISHEIM\n",
       "26343     ZITTERSHEIM\n",
       "28172         ZERUBIA\n",
       "29099            ZOZA\n",
       "29843           ZILIA\n",
       "30388      ZELLWILLER\n",
       "30692     ZIMMERSHEIM\n",
       "32012        ZEINHEIM\n",
       "33144      ZELLENBERG\n",
       "33464         ZILLING\n",
       "33534      ZINSWILLER\n",
       "34461      ZIMMERBACH\n",
       "34687           ZUANI\n",
       "Name: Commune, dtype: object"
      ]
     },
     "execution_count": 13,
     "metadata": {},
     "output_type": "execute_result"
    }
   ],
   "source": [
    "s.loc[s.str.startswith('Z')]"
   ]
  },
  {
   "cell_type": "code",
   "execution_count": 6,
   "metadata": {},
   "outputs": [
    {
     "data": {
      "text/plain": [
       "3851     YVERSAY\n",
       "11279    YZERNAY\n",
       "20352          Y\n",
       "29434     YMERAY\n",
       "Name: Commune, dtype: object"
      ]
     },
     "execution_count": 6,
     "metadata": {},
     "output_type": "execute_result"
    }
   ],
   "source": [
    "s.loc[(s.str.startswith('Y')) & (s.str.endswith('Y'))]"
   ]
  },
  {
   "cell_type": "code",
   "execution_count": 7,
   "metadata": {},
   "outputs": [
    {
     "data": {
      "text/plain": [
       "84       SAINT-BENOIST-SUR-MER\n",
       "864                VER-SUR-MER\n",
       "957       SAINTE-CROIX-SUR-MER\n",
       "1400         OCTEVILLE-SUR-MER\n",
       "1530         LE VERDON-SUR-MER\n",
       "                 ...          \n",
       "35944         LANGRUNE-SUR-MER\n",
       "35974          POULLAN-SUR-MER\n",
       "36380        ANNEVILLE-SUR-MER\n",
       "36699       HAUTEVILLE-SUR-MER\n",
       "36733      HERMANVILLE-SUR-MER\n",
       "Name: Commune, Length: 100, dtype: object"
      ]
     },
     "execution_count": 7,
     "metadata": {},
     "output_type": "execute_result"
    }
   ],
   "source": [
    "s.loc[s.str.endswith('SUR-MER')]"
   ]
  },
  {
   "cell_type": "code",
   "execution_count": 8,
   "metadata": {},
   "outputs": [
    {
     "data": {
      "text/plain": [
       "213          ROMAGNE-SOUS-LES-COTES\n",
       "309              NEAUPHE-SOUS-ESSAI\n",
       "640                   VIC-SOUS-THIL\n",
       "938           BELVAL-SOUS-CHATILLON\n",
       "1019          SAINT-OFFENGE-DESSOUS\n",
       "                    ...            \n",
       "36420    HANNONVILLE-SOUS-LES-COTES\n",
       "36454     DUILHAC-SOUS-PEYREPERTUSE\n",
       "36585           VILLERS-SOUS-PAREID\n",
       "36619        MONTREUIL-SOUS-PEROUSE\n",
       "36739       LACHAPELLE-SOUS-AUBENAS\n",
       "Name: Commune, Length: 299, dtype: object"
      ]
     },
     "execution_count": 8,
     "metadata": {},
     "output_type": "execute_result"
    }
   ],
   "source": [
    "s.loc[s.str.contains('SOUS')]"
   ]
  },
  {
   "cell_type": "code",
   "execution_count": 19,
   "metadata": {},
   "outputs": [
    {
     "data": {
      "text/plain": [
       "1019        SAINT-OFFENGE-DESSOUS\n",
       "4276               ABBANS-DESSOUS\n",
       "4976          CASTAIGNOS-SOUSLENS\n",
       "5820                AUXON-DESSOUS\n",
       "10598               ARGUT-DESSOUS\n",
       "11609                  SOUSPIERRE\n",
       "15631              ARRENS-MARSOUS\n",
       "16221                    SOUSSANS\n",
       "18128            CLERMONT-DESSOUS\n",
       "19695                   SOMMESOUS\n",
       "21973                     SOUSSAC\n",
       "23144                   SOUSTELLE\n",
       "23339              LOUSSOUS-DEBAT\n",
       "23490                     WISSOUS\n",
       "29877                 SOUS-PARSAT\n",
       "30480                    SOUSTONS\n",
       "31379                   SOUSVILLE\n",
       "32508                    PAYSSOUS\n",
       "33569                  SOUSCEYRAC\n",
       "34524                 SOUSMOULINS\n",
       "35656         SOUSSEY-SUR-BRIONNE\n",
       "35903    BENQUE-DESSOUS-ET-DESSUS\n",
       "Name: Commune, dtype: object"
      ]
     },
     "execution_count": 19,
     "metadata": {},
     "output_type": "execute_result"
    }
   ],
   "source": [
    "s.loc[(s.str.contains('SOUS')) & ~(s.str.contains('-SOUS-'))] "
   ]
  },
  {
   "cell_type": "markdown",
   "metadata": {},
   "source": [
    "Point sur les expressions régulières"
   ]
  },
  {
   "cell_type": "code",
   "execution_count": 9,
   "metadata": {},
   "outputs": [
    {
     "data": {
      "text/plain": [
       "Series([], Name: Commune, dtype: object)"
      ]
     },
     "execution_count": 9,
     "metadata": {},
     "output_type": "execute_result"
    }
   ],
   "source": [
    "s.loc[s.str.contains('zz')]"
   ]
  },
  {
   "cell_type": "code",
   "execution_count": 21,
   "metadata": {},
   "outputs": [
    {
     "data": {
      "text/plain": [
       "Series([], Name: Commune, dtype: object)"
      ]
     },
     "execution_count": 21,
     "metadata": {},
     "output_type": "execute_result"
    }
   ],
   "source": [
    "s.loc[s.str.contains('z.*z')]"
   ]
  },
  {
   "cell_type": "markdown",
   "metadata": {},
   "source": [
    "Sélections dans les DataFrames"
   ]
  },
  {
   "cell_type": "code",
   "execution_count": 22,
   "metadata": {},
   "outputs": [
    {
     "data": {
      "text/plain": [
       "0                BOULOGNE-SUR-GESSE\n",
       "1                           FEUILLA\n",
       "2                        BESSAMOREL\n",
       "3                PRUNAY-EN-YVELINES\n",
       "4              MORIERES-LES-AVIGNON\n",
       "                    ...            \n",
       "36737                     CHAVANNAZ\n",
       "36738    NEEWILLER-PRES-LAUTERBOURG\n",
       "36739       LACHAPELLE-SOUS-AUBENAS\n",
       "36740                BAGE-LE-CHATEL\n",
       "36741                  GUILBERVILLE\n",
       "Name: Commune, Length: 36742, dtype: object"
      ]
     },
     "execution_count": 22,
     "metadata": {},
     "output_type": "execute_result"
    }
   ],
   "source": [
    "geo['Commune']"
   ]
  },
  {
   "cell_type": "code",
   "execution_count": 23,
   "metadata": {},
   "outputs": [
    {
     "data": {
      "text/html": [
       "<div>\n",
       "<style scoped>\n",
       "    .dataframe tbody tr th:only-of-type {\n",
       "        vertical-align: middle;\n",
       "    }\n",
       "\n",
       "    .dataframe tbody tr th {\n",
       "        vertical-align: top;\n",
       "    }\n",
       "\n",
       "    .dataframe thead th {\n",
       "        text-align: right;\n",
       "    }\n",
       "</style>\n",
       "<table border=\"1\" class=\"dataframe\">\n",
       "  <thead>\n",
       "    <tr style=\"text-align: right;\">\n",
       "      <th></th>\n",
       "      <th>Commune</th>\n",
       "      <th>Superficie</th>\n",
       "      <th>Population</th>\n",
       "    </tr>\n",
       "  </thead>\n",
       "  <tbody>\n",
       "    <tr>\n",
       "      <th>0</th>\n",
       "      <td>BOULOGNE-SUR-GESSE</td>\n",
       "      <td>2470.0</td>\n",
       "      <td>1.6</td>\n",
       "    </tr>\n",
       "    <tr>\n",
       "      <th>1</th>\n",
       "      <td>FEUILLA</td>\n",
       "      <td>2426.0</td>\n",
       "      <td>0.1</td>\n",
       "    </tr>\n",
       "    <tr>\n",
       "      <th>2</th>\n",
       "      <td>BESSAMOREL</td>\n",
       "      <td>743.0</td>\n",
       "      <td>0.4</td>\n",
       "    </tr>\n",
       "    <tr>\n",
       "      <th>3</th>\n",
       "      <td>PRUNAY-EN-YVELINES</td>\n",
       "      <td>2717.0</td>\n",
       "      <td>0.8</td>\n",
       "    </tr>\n",
       "    <tr>\n",
       "      <th>4</th>\n",
       "      <td>MORIERES-LES-AVIGNON</td>\n",
       "      <td>1042.0</td>\n",
       "      <td>7.6</td>\n",
       "    </tr>\n",
       "    <tr>\n",
       "      <th>...</th>\n",
       "      <td>...</td>\n",
       "      <td>...</td>\n",
       "      <td>...</td>\n",
       "    </tr>\n",
       "    <tr>\n",
       "      <th>36737</th>\n",
       "      <td>CHAVANNAZ</td>\n",
       "      <td>321.0</td>\n",
       "      <td>0.2</td>\n",
       "    </tr>\n",
       "    <tr>\n",
       "      <th>36738</th>\n",
       "      <td>NEEWILLER-PRES-LAUTERBOURG</td>\n",
       "      <td>725.0</td>\n",
       "      <td>0.7</td>\n",
       "    </tr>\n",
       "    <tr>\n",
       "      <th>36739</th>\n",
       "      <td>LACHAPELLE-SOUS-AUBENAS</td>\n",
       "      <td>1018.0</td>\n",
       "      <td>1.5</td>\n",
       "    </tr>\n",
       "    <tr>\n",
       "      <th>36740</th>\n",
       "      <td>BAGE-LE-CHATEL</td>\n",
       "      <td>86.0</td>\n",
       "      <td>0.8</td>\n",
       "    </tr>\n",
       "    <tr>\n",
       "      <th>36741</th>\n",
       "      <td>GUILBERVILLE</td>\n",
       "      <td>2224.0</td>\n",
       "      <td>1.0</td>\n",
       "    </tr>\n",
       "  </tbody>\n",
       "</table>\n",
       "<p>36742 rows × 3 columns</p>\n",
       "</div>"
      ],
      "text/plain": [
       "                          Commune  Superficie  Population\n",
       "0              BOULOGNE-SUR-GESSE      2470.0         1.6\n",
       "1                         FEUILLA      2426.0         0.1\n",
       "2                      BESSAMOREL       743.0         0.4\n",
       "3              PRUNAY-EN-YVELINES      2717.0         0.8\n",
       "4            MORIERES-LES-AVIGNON      1042.0         7.6\n",
       "...                           ...         ...         ...\n",
       "36737                   CHAVANNAZ       321.0         0.2\n",
       "36738  NEEWILLER-PRES-LAUTERBOURG       725.0         0.7\n",
       "36739     LACHAPELLE-SOUS-AUBENAS      1018.0         1.5\n",
       "36740              BAGE-LE-CHATEL        86.0         0.8\n",
       "36741                GUILBERVILLE      2224.0         1.0\n",
       "\n",
       "[36742 rows x 3 columns]"
      ]
     },
     "execution_count": 23,
     "metadata": {},
     "output_type": "execute_result"
    }
   ],
   "source": [
    "l = [\"Commune\", \"Superficie\",\"Population\"]\n",
    "geo[l]"
   ]
  },
  {
   "cell_type": "code",
   "execution_count": 24,
   "metadata": {},
   "outputs": [
    {
     "data": {
      "text/plain": [
       "<bound method NDFrame.head of                           Commune  Superficie  Population\n",
       "0              BOULOGNE-SUR-GESSE      2470.0         1.6\n",
       "1                         FEUILLA      2426.0         0.1\n",
       "2                      BESSAMOREL       743.0         0.4\n",
       "3              PRUNAY-EN-YVELINES      2717.0         0.8\n",
       "4            MORIERES-LES-AVIGNON      1042.0         7.6\n",
       "...                           ...         ...         ...\n",
       "36737                   CHAVANNAZ       321.0         0.2\n",
       "36738  NEEWILLER-PRES-LAUTERBOURG       725.0         0.7\n",
       "36739     LACHAPELLE-SOUS-AUBENAS      1018.0         1.5\n",
       "36740              BAGE-LE-CHATEL        86.0         0.8\n",
       "36741                GUILBERVILLE      2224.0         1.0\n",
       "\n",
       "[36742 rows x 3 columns]>"
      ]
     },
     "execution_count": 24,
     "metadata": {},
     "output_type": "execute_result"
    }
   ],
   "source": [
    "geo[l].head"
   ]
  },
  {
   "cell_type": "code",
   "execution_count": 25,
   "metadata": {},
   "outputs": [
    {
     "data": {
      "text/plain": [
       "Code INSEE                                                      71288\n",
       "Code Postal                                                     71250\n",
       "Commune                                                         MASSY\n",
       "Département                                            SAONE-ET-LOIRE\n",
       "Région                                                      BOURGOGNE\n",
       "Statut                                                 Commune simple\n",
       "Altitude Moyenne                                                  297\n",
       "Superficie                                                        503\n",
       "Population                                                        0.1\n",
       "geo_point_2d                             46.4898679694, 4.60948900655\n",
       "geo_shape           {\"type\": \"Polygon\", \"coordinates\": [[[4.621836...\n",
       "Name: 200, dtype: object"
      ]
     },
     "execution_count": 25,
     "metadata": {},
     "output_type": "execute_result"
    }
   ],
   "source": [
    "geo.iloc[200]"
   ]
  },
  {
   "cell_type": "markdown",
   "metadata": {},
   "source": []
  },
  {
   "cell_type": "code",
   "execution_count": null,
   "metadata": {},
   "outputs": [],
   "source": []
  }
 ],
 "metadata": {
  "kernelspec": {
   "display_name": "Python 3",
   "language": "python",
   "name": "python3"
  },
  "language_info": {
   "codemirror_mode": {
    "name": "ipython",
    "version": 3
   },
   "file_extension": ".py",
   "mimetype": "text/x-python",
   "name": "python",
   "nbconvert_exporter": "python",
   "pygments_lexer": "ipython3",
   "version": "3.7.6"
  }
 },
 "nbformat": 4,
 "nbformat_minor": 4
}
